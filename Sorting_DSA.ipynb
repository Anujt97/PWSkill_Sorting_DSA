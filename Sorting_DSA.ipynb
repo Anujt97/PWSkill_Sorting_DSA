{
 "cells": [
  {
   "cell_type": "markdown",
   "id": "0c4c09f0",
   "metadata": {},
   "source": [
    "Question 1 :- Given an array of n numbers, give an algorithm which gives the element appearing maximum number of times?"
   ]
  },
  {
   "cell_type": "code",
   "execution_count": 12,
   "id": "cc2c9eea",
   "metadata": {},
   "outputs": [
    {
     "data": {
      "text/plain": [
       "1"
      ]
     },
     "execution_count": 12,
     "metadata": {},
     "output_type": "execute_result"
    }
   ],
   "source": [
    "def max_count(arr):\n",
    "    count_dict = {}\n",
    "    \n",
    "    for num in arr:\n",
    "        if num in count_dict:\n",
    "            count_dict[num] += 1 \n",
    "        else:\n",
    "            count_dict[num] = 1\n",
    "            \n",
    "    max_count = 0\n",
    "    max_ele = None\n",
    "    \n",
    "    for num, count in count_dict.items():\n",
    "        if count > max_count:\n",
    "            max_count = count\n",
    "            max_ele = num\n",
    "            \n",
    "    return max_ele\n",
    "    \n",
    "arr = [1, 1, 1, 1, 2 , 2 , 2, 5, 5, 4]\n",
    "max_ele = max_count(arr)\n",
    "max_ele"
   ]
  },
  {
   "cell_type": "markdown",
   "id": "1bbebfc3",
   "metadata": {},
   "source": [
    "Question 2 :- \n",
    "Problem 2 : We are given a list of n-1 integers and these integers are in the range of 1 to n . There are no duplicates in the list. One of the integers is missing in the list. Give an algorithm to find that element Ex: [1,2,4,6,3,7,8] 5 is the missing num."
   ]
  },
  {
   "cell_type": "code",
   "execution_count": 20,
   "id": "674011c9",
   "metadata": {},
   "outputs": [
    {
     "data": {
      "text/plain": [
       "5"
      ]
     },
     "execution_count": 20,
     "metadata": {},
     "output_type": "execute_result"
    }
   ],
   "source": [
    "def find_missing(arr):\n",
    "    n = len(arr) + 1 \n",
    "    total_sum = (n * (n+1)) // 2\n",
    "    arr_sum = sum(arr)\n",
    "    missing_value = total_sum - arr_sum\n",
    "    return missing_value\n",
    "    \n",
    "arr = [1,2,4,6,3,7,8]\n",
    "missing_num = find_missing(arr)\n",
    "missing_num"
   ]
  },
  {
   "cell_type": "markdown",
   "id": "8e2d187b",
   "metadata": {},
   "source": [
    "Question 3 :- Given an array of n positive numbers. All numbers occurs even number of times except 1 which occurs odd number of times. Find that number in O(n) time and O(1) space. Ex: [1,2,3,2,3,1,3]. 3 is repeats odd times."
   ]
  },
  {
   "cell_type": "code",
   "execution_count": 23,
   "id": "f248cda3",
   "metadata": {},
   "outputs": [
    {
     "data": {
      "text/plain": [
       "3"
      ]
     },
     "execution_count": 23,
     "metadata": {},
     "output_type": "execute_result"
    }
   ],
   "source": [
    "def find_odd_occurrence(arr):\n",
    "    result = 0\n",
    "    \n",
    "    # XOR all elements of the array\n",
    "    for num in arr:\n",
    "        result ^= num\n",
    "    \n",
    "    return result\n",
    "\n",
    "arr = [1, 2, 3, 2, 3, 1, 3]\n",
    "odd_occurrence = find_odd_occurrence(arr)\n",
    "odd_occurrence"
   ]
  },
  {
   "cell_type": "markdown",
   "id": "6347d1b3",
   "metadata": {},
   "source": [
    "Question 4 :- Given an array of n elements. Find two elements in the array such that their sum is equal to given element K."
   ]
  },
  {
   "cell_type": "code",
   "execution_count": 4,
   "id": "755bdd3d",
   "metadata": {},
   "outputs": [
    {
     "name": "stdout",
     "output_type": "stream",
     "text": [
      "The pair with sum 9 is: (2, 7)\n"
     ]
    }
   ],
   "source": [
    "def find_two_sum(arr, target):\n",
    "    seen = set()\n",
    "    \n",
    "    for num in arr:\n",
    "        complement = target - num\n",
    "        \n",
    "        if complement in seen:\n",
    "            return complement, num\n",
    "        \n",
    "        seen.add(num)\n",
    "    \n",
    "    return None\n",
    "\n",
    "arr = [1, 4, 6, 2, 7, 3]\n",
    "target = 9\n",
    "pair = find_two_sum(arr, target)\n",
    "if pair:\n",
    "    print(f\"The pair with sum {target} is:\", pair)\n",
    "else:\n",
    "    print(\"No such pair exists.\")"
   ]
  },
  {
   "cell_type": "markdown",
   "id": "e5e00e92",
   "metadata": {},
   "source": [
    "Question 5 :- Given an array of both positive and negative numbers, find two numbers such that their sum is closest to 0. Ex: [ 1 ,60 ,-10, 70, -80,85]. Ans : -80,85."
   ]
  },
  {
   "cell_type": "code",
   "execution_count": 5,
   "id": "eb9b2925",
   "metadata": {},
   "outputs": [
    {
     "name": "stdout",
     "output_type": "stream",
     "text": [
      "Pair with sum closest to zero: (-80, 85)\n"
     ]
    }
   ],
   "source": [
    "def closest_to_zero(arr):\n",
    "    \n",
    "    arr.sort()\n",
    "    \n",
    "    left = 0\n",
    "    right = len(arr) - 1\n",
    "    \n",
    "    closest_sum = float('inf')\n",
    "    closest_pair = None\n",
    "    \n",
    "    # Iterating until the pointers meet\n",
    "    while left < right:\n",
    "        # Calculating the sum of the current pair\n",
    "        current_sum = arr[left] + arr[right]\n",
    "        \n",
    "        # If the absolute value of the current sum is smaller than the closest sum found so far\n",
    "        if abs(current_sum) < abs(closest_sum):\n",
    "            closest_sum = current_sum\n",
    "            closest_pair = (arr[left], arr[right])\n",
    "        \n",
    "        # Moving the pointers based on the sum\n",
    "        if current_sum < 0:\n",
    "            left += 1\n",
    "        elif current_sum > 0:\n",
    "            right -= 1\n",
    "        else:\n",
    "            # If the sum is zero, return the pair immediately\n",
    "            return closest_pair\n",
    "    \n",
    "    return closest_pair\n",
    "\n",
    "\n",
    "arr = [1, 60, -10, 70, -80, 85]\n",
    "closest_pair = closest_to_zero(arr)\n",
    "print(\"Pair with sum closest to zero:\", closest_pair)"
   ]
  },
  {
   "cell_type": "markdown",
   "id": "1dc1596e",
   "metadata": {},
   "source": [
    "Question 6 :- Given an array of n elements . Find three elements such that their sum is equal to the given number."
   ]
  },
  {
   "cell_type": "code",
   "execution_count": 8,
   "id": "1a3e1977",
   "metadata": {},
   "outputs": [
    {
     "name": "stdout",
     "output_type": "stream",
     "text": [
      "Triplets with sum equal to 2 : [[-1, 1, 2], [1, 2, -1]]\n"
     ]
    }
   ],
   "source": [
    "def three_sum(arr, target):\n",
    "    # Initializing the result list to store triplets\n",
    "    triplets = []\n",
    "    \n",
    "    # Iterating through the array using three nested loops\n",
    "    for i in range(len(arr) - 2):\n",
    "        for j in range(i + 1, len(arr) - 1):\n",
    "            for k in range(j + 1, len(arr)):\n",
    "                if arr[i] + arr[j] + arr[k] == target:\n",
    "                    triplets.append([arr[i], arr[j], arr[k]])\n",
    "    \n",
    "    return triplets\n",
    "\n",
    "\n",
    "arr = [-1, 0, 1, 2, -1, -4]\n",
    "target = 2\n",
    "triplets = three_sum(arr, target)\n",
    "print(\"Triplets with sum equal to\", target, \":\", triplets)"
   ]
  },
  {
   "cell_type": "markdown",
   "id": "95425c29",
   "metadata": {},
   "source": [
    "Question 7 :- Given an array of n elements . Find three elements i, j, k in the array such that\n",
    " i*i+j*j=k*k."
   ]
  },
  {
   "cell_type": "code",
   "execution_count": 9,
   "id": "60a2bd44",
   "metadata": {},
   "outputs": [
    {
     "name": "stdout",
     "output_type": "stream",
     "text": [
      "Pythagorean triplet: (3, 4, 5)\n"
     ]
    }
   ],
   "source": [
    "def find_pythagorean_triplets(arr):\n",
    "    # Squaring elements in the array and store them in a set\n",
    "    squared_set = {x*x for x in arr}\n",
    "    \n",
    "    # Iterating through all pairs of elements in the array\n",
    "    for i in range(len(arr)):\n",
    "        for j in range(i+1, len(arr)):\n",
    "            # Calculating the sum of squares of elements at indices i and j\n",
    "            sum_of_squares = arr[i]*arr[i] + arr[j]*arr[j]\n",
    "            \n",
    "            # Checking if the sum of squares exists in the set\n",
    "            if sum_of_squares in squared_set:\n",
    "                return (arr[i], arr[j], int(sum_of_squares**0.5))  # Return the triplet (i, j, k)\n",
    "    \n",
    "    return None  # If no triplet is found\n",
    "\n",
    "\n",
    "arr = [3, 1, 4, 6, 5, 7]\n",
    "triplet = find_pythagorean_triplets(arr)\n",
    "if triplet:\n",
    "    print(\"Pythagorean triplet:\", triplet)\n",
    "else:\n",
    "    print(\"No Pythagorean triplet found.\")"
   ]
  },
  {
   "cell_type": "markdown",
   "id": "528a644d",
   "metadata": {},
   "source": [
    "Question 8 :- An element is a majority if it appears more than n/2 times. Give an algorithm takes an array of n element as argument and identifies a majority (if it exists)."
   ]
  },
  {
   "cell_type": "code",
   "execution_count": 10,
   "id": "124f6ac3",
   "metadata": {},
   "outputs": [
    {
     "name": "stdout",
     "output_type": "stream",
     "text": [
      "Majority element: 4\n"
     ]
    }
   ],
   "source": [
    "def find_majority_element(arr):\n",
    "    candidate = None\n",
    "    count = 0\n",
    "    \n",
    "    # Finding a candidate for the majority element\n",
    "    for num in arr:\n",
    "        if count == 0:\n",
    "            candidate = num\n",
    "        if num == candidate:\n",
    "            count += 1\n",
    "        else:\n",
    "            count -= 1\n",
    "    \n",
    "    # Verifying if the candidate is the majority element\n",
    "    count = 0\n",
    "    for num in arr:\n",
    "        if num == candidate:\n",
    "            count += 1\n",
    "    \n",
    "    if count > len(arr) // 2:\n",
    "        return candidate\n",
    "    else:\n",
    "        return None  # No majority element found\n",
    "\n",
    "\n",
    "arr = [3, 3, 4, 2, 4, 4, 2, 4, 4]\n",
    "majority_element = find_majority_element(arr)\n",
    "if majority_element:\n",
    "    print(\"Majority element:\", majority_element)\n",
    "else:\n",
    "    print(\"No majority element found.\")"
   ]
  },
  {
   "cell_type": "markdown",
   "id": "e3d5b8d1",
   "metadata": {},
   "source": [
    "Question 9 :- Given n × n matrix, and in each row all 1’s are followed by 0’s. Find the row with the maximum number of 0’s."
   ]
  },
  {
   "cell_type": "code",
   "execution_count": 11,
   "id": "e235d684",
   "metadata": {},
   "outputs": [
    {
     "name": "stdout",
     "output_type": "stream",
     "text": [
      "Row with maximum number of zeros: 3\n"
     ]
    }
   ],
   "source": [
    "def row_with_max_zeros(matrix):\n",
    "    max_zeros_row = -1\n",
    "    max_zeros_count = 0\n",
    "\n",
    "    # Iterating through each row\n",
    "    for i in range(len(matrix)):\n",
    "        left = 0\n",
    "        right = len(matrix[i]) - 1\n",
    "\n",
    "        # Performng binary search to find the rightmost occurrence of 0 in the row\n",
    "        while left <= right:\n",
    "            mid = (left + right) // 2\n",
    "            if matrix[i][mid] == 0:\n",
    "                # Updating the max_zeros_count and max_zeros_row if necessary\n",
    "                max_zeros_count = max(max_zeros_count, len(matrix[i]) - mid)\n",
    "                max_zeros_row = i\n",
    "                right = mid - 1  # Continue searching to the left\n",
    "            else:\n",
    "                left = mid + 1  # Search to the right\n",
    "\n",
    "    return max_zeros_row\n",
    "\n",
    "matrix = [\n",
    "    [1, 1, 1, 0, 0],\n",
    "    [1, 1, 0, 0, 0],\n",
    "    [1, 0, 0, 0, 0],\n",
    "    [1, 1, 1, 1, 0],\n",
    "    [1, 1, 1, 1, 1]\n",
    "]\n",
    "max_zeros_row = row_with_max_zeros(matrix)\n",
    "print(\"Row with maximum number of zeros:\", max_zeros_row)"
   ]
  },
  {
   "cell_type": "markdown",
   "id": "841bf38d",
   "metadata": {},
   "source": [
    "Question 10 :- Sort an array of 0’s, 1’s and 2’s [or R’s, G’s and B’s]: Given an array A[] consisting of 0’s, 1’s and 2’s, give an algorithm for sorting A[].The algorithm should put all 0’s first, then all 1’s and finally all 2’s at the end. Example Input = {0,1,1,0,1,2,1,2,0,0,0,1}, Output = {0,0,0,0,0,1,1,1,1,1,2,2}"
   ]
  },
  {
   "cell_type": "code",
   "execution_count": 12,
   "id": "2a23c334",
   "metadata": {},
   "outputs": [
    {
     "name": "stdout",
     "output_type": "stream",
     "text": [
      "Sorted array: [0, 0, 0, 0, 0, 1, 1, 1, 1, 1, 2, 2]\n"
     ]
    }
   ],
   "source": [
    "def sort_012(arr):\n",
    "    low = 0\n",
    "    mid = 0\n",
    "    high = len(arr) - 1\n",
    "\n",
    "    while mid <= high:\n",
    "        if arr[mid] == 0:\n",
    "            arr[low], arr[mid] = arr[mid], arr[low]\n",
    "            low += 1\n",
    "            mid += 1\n",
    "        elif arr[mid] == 1:\n",
    "            mid += 1\n",
    "        else:\n",
    "            arr[mid], arr[high] = arr[high], arr[mid]\n",
    "            high -= 1\n",
    "\n",
    "arr = [0, 1, 1, 0, 1, 2, 1, 2, 0, 0, 0, 1]\n",
    "sort_012(arr)\n",
    "print(\"Sorted array:\", arr)"
   ]
  },
  {
   "cell_type": "code",
   "execution_count": null,
   "id": "055f6d6c",
   "metadata": {},
   "outputs": [],
   "source": []
  }
 ],
 "metadata": {
  "kernelspec": {
   "display_name": "Python 3 (ipykernel)",
   "language": "python",
   "name": "python3"
  },
  "language_info": {
   "codemirror_mode": {
    "name": "ipython",
    "version": 3
   },
   "file_extension": ".py",
   "mimetype": "text/x-python",
   "name": "python",
   "nbconvert_exporter": "python",
   "pygments_lexer": "ipython3",
   "version": "3.11.3"
  }
 },
 "nbformat": 4,
 "nbformat_minor": 5
}
